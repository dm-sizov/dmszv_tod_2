{
 "cells": [
  {
   "cell_type": "markdown",
   "metadata": {},
   "source": [
    "# Pandas"
   ]
  },
  {
   "attachments": {},
   "cell_type": "markdown",
   "metadata": {},
   "source": [
    "## Лабораторная работа №2\n",
    "Выполнил: Студент группы ДПИ22-1 Сизов Дмитрий"
   ]
  },
  {
   "cell_type": "markdown",
   "metadata": {},
   "source": [
    "### Базовые операции с `DataFrame`"
   ]
  },
  {
   "cell_type": "markdown",
   "metadata": {},
   "source": [
    "1.1 В файлах `recipes_sample.csv` и `reviews_sample.csv` находится информация об рецептах блюд и отзывах на эти рецепты соответственно. Загрузите данные из файлов в виде `pd.DataFrame` с названиями `recipes` и `reviews`. Обратите внимание на корректное считывание столбца с индексами в таблице `reviews` (безымянный столбец)."
   ]
  },
  {
   "cell_type": "code",
   "execution_count": 1,
   "metadata": {},
   "outputs": [],
   "source": [
    "import pandas as pd\n",
    "recipes = pd.read_csv('data/recipes_sample.csv')\n",
    "reviews = pd.read_csv('data/reviews_sample.csv')"
   ]
  },
  {
   "cell_type": "markdown",
   "metadata": {},
   "source": [
    "1.2 Для каждой из таблиц выведите основные параметры:\n",
    "* количество точек данных (строк);\n",
    "* количество столбцов;\n",
    "* тип данных каждого столбца."
   ]
  },
  {
   "cell_type": "code",
   "execution_count": 2,
   "metadata": {},
   "outputs": [
    {
     "name": "stdout",
     "output_type": "stream",
     "text": [
      "Recipes\n",
      "Строк: 30000\n",
      "Столбцов: 8\n",
      "name               object\n",
      "id                  int64\n",
      "minutes             int64\n",
      "contributor_id      int64\n",
      "submitted          object\n",
      "n_steps           float64\n",
      "description        object\n",
      "n_ingredients     float64\n",
      "dtype: object\n",
      "Reviews\n",
      "Строк: 126696\n",
      "Столбцов: 6\n",
      "Unnamed: 0     int64\n",
      "user_id        int64\n",
      "recipe_id      int64\n",
      "date          object\n",
      "rating         int64\n",
      "review        object\n",
      "dtype: object\n"
     ]
    }
   ],
   "source": [
    "tables = [('Recipes', recipes), ('Reviews', reviews)]\n",
    "for name, table in tables:\n",
    "    print(name)\n",
    "    print(f'Строк: {len(table.index)}')\n",
    "    print(f'Столбцов: {len(table.columns)}')\n",
    "    print(table.dtypes)\n"
   ]
  },
  {
   "cell_type": "markdown",
   "metadata": {},
   "source": [
    "1.3 Исследуйте, в каких столбцах таблиц содержатся пропуски. Посчитайте долю строк, содержащих пропуски, в отношении к общему количеству строк."
   ]
  },
  {
   "cell_type": "code",
   "execution_count": 3,
   "metadata": {},
   "outputs": [
    {
     "name": "stdout",
     "output_type": "stream",
     "text": [
      "68.98\n",
      "0.01\n"
     ]
    }
   ],
   "source": [
    "import numpy as np\n",
    "\n",
    "for _, table in tables:\n",
    "    print(round(np.count_nonzero(table.isnull()) / len(table.index) * 100, 2))"
   ]
  },
  {
   "cell_type": "markdown",
   "metadata": {},
   "source": [
    "1.4 Рассчитайте среднее значение для каждого из числовых столбцов (где это имеет смысл)."
   ]
  },
  {
   "cell_type": "code",
   "execution_count": 4,
   "metadata": {},
   "outputs": [
    {
     "name": "stdout",
     "output_type": "stream",
     "text": [
      "123.35813333333333\n",
      "9.805582137161085\n",
      "9.008285984848484\n",
      "4.410802235271832\n"
     ]
    }
   ],
   "source": [
    "print(recipes.loc[:, 'minutes'].mean())\n",
    "print(recipes.loc[:, 'n_steps'].mean())\n",
    "print(recipes.loc[:, 'n_ingredients'].mean())\n",
    "print(reviews.loc[:, 'rating'].mean())"
   ]
  },
  {
   "cell_type": "markdown",
   "metadata": {},
   "source": [
    "1.5 Создайте серию из 10 случайных названий рецептов."
   ]
  },
  {
   "cell_type": "code",
   "execution_count": 5,
   "metadata": {},
   "outputs": [
    {
     "name": "stdout",
     "output_type": "stream",
     "text": [
      "['tasty chicken drumettes  kid pleaser', 'easy au gratin s', 'banana split bites', 'no cook divinity', 'cinnamon applesauce jello', 'strawberry blender mousse', 'citrus roasted fish with capers', 'cheesy stuffing cups', 'mama mia s caesar salad', 'caramel tassie cookies']\n"
     ]
    }
   ],
   "source": [
    "print(list(recipes.sample(10).loc[:, 'name']))"
   ]
  },
  {
   "cell_type": "markdown",
   "metadata": {},
   "source": [
    "1.6 Измените индекс в таблице `reviews`, пронумеровав строки, начиная с нуля."
   ]
  },
  {
   "cell_type": "markdown",
   "metadata": {},
   "source": [
    "1.7 Выведите информацию о рецептах, время выполнения которых не больше 20 минут и кол-во ингредиентов в которых не больше 5."
   ]
  },
  {
   "cell_type": "code",
   "execution_count": 6,
   "metadata": {},
   "outputs": [
    {
     "name": "stdout",
     "output_type": "stream",
     "text": [
      "                                             name      id  minutes  \\\n",
      "90              hawaiian sunrise           mimosa  100837        5   \n",
      "91     tasty dish s   banana pudding in 2 minutes  286484        2   \n",
      "94                             1 minute meatballs   11361       13   \n",
      "143                             2 minute broccoli  256464        4   \n",
      "168                 3 ingredient moroccan dry rub  505748        3   \n",
      "...                                           ...     ...      ...   \n",
      "29817                           zen wine spritzer  498523        1   \n",
      "29858                        zesty stuffed olives  269904       10   \n",
      "29866                   zhanyshpa from kazakhstan  160599       15   \n",
      "29874                   ziplock vanilla ice cream   74250       10   \n",
      "29980        zucchini with jalapeno monterey jack  320622       10   \n",
      "\n",
      "       contributor_id   submitted  n_steps  \\\n",
      "90              58104  2004-09-29      4.0   \n",
      "91              47892  2008-02-13      NaN   \n",
      "94               4470  2001-09-03      NaN   \n",
      "143            165433  2007-10-01      7.0   \n",
      "168             65502  2013-08-12      NaN   \n",
      "...               ...         ...      ...   \n",
      "29817         2585084  2013-04-06      3.0   \n",
      "29858          226066  2007-12-05      NaN   \n",
      "29866          279179  2006-03-20      NaN   \n",
      "29874           24386  2003-10-29      8.0   \n",
      "29980          305531  2008-08-20      3.0   \n",
      "\n",
      "                                             description  n_ingredients  \n",
      "90     pineapple mimosa was changed to hawaiian sunri...            3.0  \n",
      "91     \"mmmm, i love bananas!\" a --tasty dish-- origi...            4.0  \n",
      "94     this is a real short cut for cooks in a hurry....            2.0  \n",
      "143    so easy.  tender crisp.  hot, steamed broccoli...            2.0  \n",
      "168    who says that recipes have to be complicated t...            3.0  \n",
      "...                                                  ...            ...  \n",
      "29817  this is a light and refreshing beverage that i...            4.0  \n",
      "29858                 from kraft.  too cute not to try!!            4.0  \n",
      "29866            this is another typical kazakh dessert.            4.0  \n",
      "29874  a fun thing for kids to do. may want to use mi...            3.0  \n",
      "29980                                  simple and yummy!            3.0  \n",
      "\n",
      "[1065 rows x 8 columns]\n"
     ]
    }
   ],
   "source": [
    "print(recipes[(recipes.minutes < 20) & (recipes.n_ingredients < 5)])"
   ]
  },
  {
   "cell_type": "markdown",
   "metadata": {},
   "source": [
    "### Работа с датами в `pandas`"
   ]
  },
  {
   "cell_type": "markdown",
   "metadata": {},
   "source": [
    "2.1 Преобразуйте столбец `submitted` из таблицы `recipes` в формат времени. Модифицируйте решение задачи 1.1 так, чтобы считать столбец сразу в нужном формате."
   ]
  },
  {
   "cell_type": "code",
   "execution_count": 7,
   "metadata": {},
   "outputs": [],
   "source": [
    "recipes.submitted = pd.to_datetime(recipes.submitted)"
   ]
  },
  {
   "cell_type": "markdown",
   "metadata": {},
   "source": [
    "2.2 Выведите информацию о рецептах, добавленных в датасет не позже 2010 года."
   ]
  },
  {
   "cell_type": "code",
   "execution_count": 8,
   "metadata": {},
   "outputs": [
    {
     "name": "stdout",
     "output_type": "stream",
     "text": [
      "                                               name      id  minutes  \\\n",
      "0             george s at the cove  black bean soup   44123       90   \n",
      "1                healthy for them  yogurt popsicles   67664       10   \n",
      "2                      i can t believe it s spinach   38798       30   \n",
      "3                              italian  gut busters   35173       45   \n",
      "4          love is in the air  beef fondue   sauces   84797       25   \n",
      "...                                             ...     ...      ...   \n",
      "29993                     zuni caf zucchini pickles  316950     2895   \n",
      "29995  zurie s holey rustic olive and cheddar bread  267661       80   \n",
      "29996          zwetschgenkuchen  bavarian plum cake  386977      240   \n",
      "29997   zwiebelkuchen   southwest german onion cake  103312       75   \n",
      "29999        cookies by design   cookies on a stick  298512       29   \n",
      "\n",
      "       contributor_id  submitted  n_steps  \\\n",
      "0               35193 2002-10-25      NaN   \n",
      "1               91970 2003-07-26      NaN   \n",
      "2                1533 2002-08-29      NaN   \n",
      "3               22724 2002-07-27      NaN   \n",
      "4                4470 2004-02-23      4.0   \n",
      "...               ...        ...      ...   \n",
      "29993           62264 2008-07-31      NaN   \n",
      "29995          200862 2007-11-25     16.0   \n",
      "29996          177443 2009-08-24      NaN   \n",
      "29997          161745 2004-11-03      NaN   \n",
      "29999          506822 2008-04-15      9.0   \n",
      "\n",
      "                                             description  n_ingredients  \n",
      "0      an original recipe created by chef scott meska...           18.0  \n",
      "1      my children and their friends ask for my homem...            NaN  \n",
      "2                these were so go, it surprised even me.            8.0  \n",
      "3      my sister-in-law made these for us at a family...            NaN  \n",
      "4      i think a fondue is a very romantic casual din...            NaN  \n",
      "...                                                  ...            ...  \n",
      "29993  refrigerator pickles for some of the zucchini ...            8.0  \n",
      "29995  this is based on a french recipe but i changed...           10.0  \n",
      "29996  this is a traditional fresh plum cake, thought...           11.0  \n",
      "29997  this is a traditional late summer early fall s...            NaN  \n",
      "29999  i've heard of the 'cookies by design' company,...           10.0  \n",
      "\n",
      "[26123 rows x 8 columns]\n"
     ]
    }
   ],
   "source": [
    "print(recipes[recipes.submitted.dt.year < 2010])"
   ]
  },
  {
   "cell_type": "markdown",
   "metadata": {},
   "source": [
    "### Работа со строковыми данными в `pandas`"
   ]
  },
  {
   "cell_type": "markdown",
   "metadata": {},
   "source": [
    "3.1  Добавьте в таблицу `recipes` столбец `description_length`, в котором хранится длина описания рецепта из столбца `description`."
   ]
  },
  {
   "cell_type": "code",
   "execution_count": 9,
   "metadata": {},
   "outputs": [],
   "source": [
    "recipes['description_length'] = recipes['description'].str.len()"
   ]
  },
  {
   "cell_type": "markdown",
   "metadata": {},
   "source": [
    "3.2 Измените название каждого рецепта в таблице `recipes` таким образом, чтобы каждое слово в названии начиналось с прописной буквы."
   ]
  },
  {
   "cell_type": "code",
   "execution_count": 10,
   "metadata": {},
   "outputs": [],
   "source": [
    "recipes['name'] = recipes['name'].str.capitalize()"
   ]
  },
  {
   "cell_type": "markdown",
   "metadata": {},
   "source": [
    "3.3 Добавьте в таблицу `recipes` столбец `name_word_count`, в котором хранится количество слов из названии рецепта (считайте, что слова в названии разделяются только пробелами). Обратите внимание, что между словами может располагаться несколько пробелов подряд."
   ]
  },
  {
   "cell_type": "code",
   "execution_count": 11,
   "metadata": {},
   "outputs": [],
   "source": [
    "recipes['name_word_count'] = recipes['name'].str.split().str.len()"
   ]
  },
  {
   "cell_type": "markdown",
   "metadata": {},
   "source": [
    "### Группировки таблиц `pd.DataFrame`"
   ]
  },
  {
   "cell_type": "markdown",
   "metadata": {},
   "source": [
    "4.1 Посчитайте количество рецептов, представленных каждым из участников (`contributor_id`). Какой участник добавил максимальное кол-во рецептов?"
   ]
  },
  {
   "cell_type": "code",
   "execution_count": 12,
   "metadata": {},
   "outputs": [
    {
     "name": "stdout",
     "output_type": "stream",
     "text": [
      "contributor_id\n",
      "1530            5\n",
      "1533          186\n",
      "1534           50\n",
      "1535           40\n",
      "1538            8\n",
      "             ... \n",
      "2001968497      2\n",
      "2002059754      1\n",
      "2002234079      1\n",
      "2002234259      1\n",
      "2002247884      1\n",
      "Length: 8404, dtype: int64\n",
      "89831\n"
     ]
    }
   ],
   "source": [
    "grouped_recipes = recipes.groupby('contributor_id')\n",
    "print(grouped_recipes.size())\n",
    "print(grouped_recipes.size().idxmax())"
   ]
  },
  {
   "cell_type": "markdown",
   "metadata": {},
   "source": [
    "4.2 Посчитайте средний рейтинг к каждому из рецептов. Для скольких рецептов отсутствуют отзывы? Обратите внимание, что отзыв с нулевым рейтингом или не заполненным текстовым описанием не считается отсутствующим."
   ]
  },
  {
   "cell_type": "code",
   "execution_count": 13,
   "metadata": {},
   "outputs": [
    {
     "name": "stdout",
     "output_type": "stream",
     "text": [
      "recipe_id\n",
      "48        1.000000\n",
      "55        4.750000\n",
      "66        4.944444\n",
      "91        4.750000\n",
      "94        5.000000\n",
      "            ...   \n",
      "536547    5.000000\n",
      "536610    0.000000\n",
      "536728    4.000000\n",
      "536729    4.750000\n",
      "536747    0.000000\n",
      "Name: rating, Length: 28100, dtype: float64\n",
      "1900\n"
     ]
    }
   ],
   "source": [
    "grouped_reviews = reviews.groupby('recipe_id')\n",
    "print(grouped_reviews['rating'].mean())\n",
    "print(len(recipes.index) - len(grouped_reviews))"
   ]
  },
  {
   "cell_type": "markdown",
   "metadata": {},
   "source": [
    "4.3 Посчитайте количество рецептов с разбивкой по годам создания."
   ]
  },
  {
   "cell_type": "code",
   "execution_count": 14,
   "metadata": {},
   "outputs": [
    {
     "name": "stdout",
     "output_type": "stream",
     "text": [
      "submitted\n",
      "1999     275\n",
      "2000     104\n",
      "2001     589\n",
      "2002    2644\n",
      "2003    2334\n",
      "2004    2153\n",
      "2005    3130\n",
      "2006    3473\n",
      "2007    4429\n",
      "2008    4029\n",
      "2009    2963\n",
      "2010    1538\n",
      "2011     922\n",
      "2012     659\n",
      "2013     490\n",
      "2014     139\n",
      "2015      42\n",
      "2016      24\n",
      "2017      39\n",
      "2018      24\n",
      "dtype: int64\n"
     ]
    }
   ],
   "source": [
    "print(recipes.groupby(recipes.submitted.dt.year).size())"
   ]
  },
  {
   "cell_type": "markdown",
   "metadata": {},
   "source": [
    "### Объединение таблиц `pd.DataFrame`"
   ]
  },
  {
   "cell_type": "markdown",
   "metadata": {},
   "source": [
    "5.1 При помощи объединения таблиц, создайте `DataFrame`, состоящий из четырех столбцов: `id`, `name`, `user_id`, `rating`. Рецепты, на которые не оставлен ни один отзыв, должны отсутствовать в полученной таблице. Подтвердите правильность работы вашего кода, выбрав рецепт, не имеющий отзывов, и попытавшись найти строку, соответствующую этому рецепту, в полученном `DataFrame`."
   ]
  },
  {
   "cell_type": "code",
   "execution_count": 15,
   "metadata": {},
   "outputs": [
    {
     "name": "stdout",
     "output_type": "stream",
     "text": [
      "False\n"
     ]
    }
   ],
   "source": [
    "recipes_merged = recipes[['id', 'name']].copy()\n",
    "reviews_temp = reviews[['recipe_id', 'user_id', 'rating']].copy()\n",
    "recipes_merged = pd.merge(recipes_merged, reviews_temp, how='inner', left_on='id', right_on='recipe_id').drop(columns=['recipe_id'])\n",
    "for recipe in recipes.id:\n",
    "    if recipe not in reviews.recipe_id:\n",
    "        print(recipe in recipes_merged.id)\n",
    "        break"
   ]
  },
  {
   "cell_type": "markdown",
   "metadata": {},
   "source": [
    "5.2 При помощи объединения таблиц и группировок, создайте `DataFrame`, состоящий из трех столбцов: `recipe_id`, `name`, `review_count`, где столбец `review_count` содержит кол-во отзывов, оставленных на рецепт `recipe_id`. У рецептов, на которые не оставлен ни один отзыв, в столбце `review_count` должен быть указан 0. Подтвердите правильность работы вашего кода, выбрав рецепт, не имеющий отзывов, и найдя строку, соответствующую этому рецепту, в полученном `DataFrame`."
   ]
  },
  {
   "cell_type": "code",
   "execution_count": 16,
   "metadata": {},
   "outputs": [
    {
     "name": "stdout",
     "output_type": "stream",
     "text": [
      "False\n"
     ]
    }
   ],
   "source": [
    "recipes_temp = recipes[['id', 'name']].copy()\n",
    "reviews_merged = reviews[['recipe_id']].copy()\n",
    "reviews_merged = pd.merge(recipes_temp, reviews_merged, how='right', left_on='id', right_on='recipe_id').drop(columns=['id'])\n",
    "review_count = reviews_merged.groupby('recipe_id', as_index=False).size()\n",
    "review_count = review_count.rename(columns={'size': 'review_count'})\n",
    "reviews_merged = reviews_merged.drop_duplicates(['recipe_id'])\n",
    "reviews_merged = pd.merge(reviews_merged, review_count, how='inner', on='recipe_id')\n",
    "for recipe in recipes.id:\n",
    "    if recipe not in reviews.recipe_id:\n",
    "        print(recipe in reviews_merged.recipe_id)\n",
    "        break"
   ]
  },
  {
   "cell_type": "markdown",
   "metadata": {},
   "source": [
    "5.3. Выясните, рецепты, добавленные в каком году, имеют наименьший средний рейтинг?"
   ]
  },
  {
   "cell_type": "code",
   "execution_count": 17,
   "metadata": {},
   "outputs": [
    {
     "name": "stdout",
     "output_type": "stream",
     "text": [
      "2016\n"
     ]
    }
   ],
   "source": [
    "reviews_temp = reviews.groupby('recipe_id', as_index=False)['rating'].mean()\n",
    "recipes_temp = recipes[['id', 'submitted']].copy()\n",
    "reviews_temp = pd.merge(reviews_temp, recipes_temp, how='inner', left_on='recipe_id', right_on='id')\n",
    "print(reviews_temp.groupby(recipes_temp.submitted.dt.year)['rating'].mean().idxmin())"
   ]
  },
  {
   "cell_type": "markdown",
   "metadata": {},
   "source": [
    "### Сохранение таблиц `pd.DataFrame`"
   ]
  },
  {
   "cell_type": "markdown",
   "metadata": {},
   "source": [
    "6.1 Отсортируйте таблицу в порядке убывания величины столбца `name_word_count` и сохраните результаты выполнения заданий 3.1-3.3 в csv файл. "
   ]
  },
  {
   "cell_type": "code",
   "execution_count": 18,
   "metadata": {},
   "outputs": [],
   "source": [
    "recipes.sort_values('name_word_count', ascending=False).to_csv('data/recipes.csv')"
   ]
  },
  {
   "cell_type": "markdown",
   "metadata": {},
   "source": [
    "6.2 Воспользовавшись `pd.ExcelWriter`, cохраните результаты 5.1 и 5.2 в файл: на лист с названием `Рецепты с оценками` сохраните результаты выполнения 5.1; на лист с названием `Количество отзывов по рецептам` сохраните результаты выполнения 5.2."
   ]
  },
  {
   "cell_type": "code",
   "execution_count": 19,
   "metadata": {},
   "outputs": [],
   "source": [
    "with pd.ExcelWriter('data/reviews.xlsx') as writer:\n",
    "    recipes_merged.to_excel(writer, sheet_name='Рецепты с оценками')\n",
    "    reviews_merged.to_excel(writer, sheet_name='Количество отзывов по рецептам')"
   ]
  }
 ],
 "metadata": {
  "kernelspec": {
   "display_name": "Python 3",
   "language": "python",
   "name": "python3"
  },
  "language_info": {
   "codemirror_mode": {
    "name": "ipython",
    "version": 3
   },
   "file_extension": ".py",
   "mimetype": "text/x-python",
   "name": "python",
   "nbconvert_exporter": "python",
   "pygments_lexer": "ipython3",
   "version": "3.9.1"
  }
 },
 "nbformat": 4,
 "nbformat_minor": 4
}
